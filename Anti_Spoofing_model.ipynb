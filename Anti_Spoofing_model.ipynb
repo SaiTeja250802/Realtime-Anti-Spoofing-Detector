{
  "nbformat": 4,
  "nbformat_minor": 0,
  "metadata": {
    "colab": {
      "provenance": []
    },
    "kernelspec": {
      "name": "python3",
      "display_name": "Python 3"
    },
    "language_info": {
      "name": "python"
    }
  },
  "cells": [
    {
      "cell_type": "code",
      "source": [
        "!nvidia-smi"
      ],
      "metadata": {
        "id": "iDh88wa3nPVO"
      },
      "execution_count": null,
      "outputs": []
    },
    {
      "cell_type": "code",
      "source": [
        "!pip install ultralytics"
      ],
      "metadata": {
        "id": "xw4IolOjnLa3"
      },
      "execution_count": null,
      "outputs": []
    },
    {
      "cell_type": "code",
      "source": [
        "from ultralytics import YOLO"
      ],
      "metadata": {
        "id": "hzu4N6DqP2Bs"
      },
      "execution_count": null,
      "outputs": []
    },
    {
      "cell_type": "code",
      "source": [
        "folder_path_drive = \"Datasets/Spoofing/Version2\"\n",
        "from google.colab import drive\n",
        "drive.mount('/content/gdrive')\n",
        "!cp /content/gdrive/MyDrive/{folder_path_drive}/data1.zip /content/"
      ],
      "metadata": {
        "id": "6eKfR_4UnHNr"
      },
      "execution_count": null,
      "outputs": []
    },
    {
      "cell_type": "code",
      "source": [
        "%cd /content\n",
        "!unzip -q data1.zip -d /content/Data"
      ],
      "metadata": {
        "id": "jzoKPWvxnFD6"
      },
      "execution_count": null,
      "outputs": []
    },
    {
      "cell_type": "code",
      "source": [
        "!yolo task=detect mode=train model=yolov8l.pt data=../content/Data/data.yaml epochs=100 imgsz=640"
      ],
      "metadata": {
        "id": "wqZmLXO2QZXj"
      },
      "execution_count": null,
      "outputs": []
    }
  ]
}